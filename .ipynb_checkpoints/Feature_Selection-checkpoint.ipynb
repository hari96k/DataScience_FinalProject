{
 "cells": [
  {
   "cell_type": "code",
   "execution_count": 3,
   "metadata": {
    "collapsed": false,
    "deletable": true,
    "editable": true
   },
   "outputs": [],
   "source": [
    "import pandas as pd\n",
    "import numpy as np\n",
    "from sklearn.cross_validation import train_test_split\n",
    "from sklearn.feature_selection import RFE\n",
    "import sklearn.feature_selection\n",
    "import xgboost as xgb\n",
    "from sklearn.metrics import roc_auc_score\n",
    "\n",
    "from numpy import loadtxt\n",
    "from xgboost import plot_importance\n",
    "from matplotlib import pyplot"
   ]
  },
  {
   "cell_type": "code",
   "execution_count": 4,
   "metadata": {
    "collapsed": false,
    "deletable": true,
    "editable": true
   },
   "outputs": [],
   "source": [
    "raw = pd.read_csv(\"raw.csv\")"
   ]
  },
  {
   "cell_type": "code",
   "execution_count": 5,
   "metadata": {
    "collapsed": false,
    "deletable": true,
    "editable": true,
    "scrolled": false
   },
   "outputs": [
    {
     "data": {
      "text/html": [
       "<div>\n",
       "<table border=\"1\" class=\"dataframe\">\n",
       "  <thead>\n",
       "    <tr style=\"text-align: right;\">\n",
       "      <th></th>\n",
       "      <th>CIGEVER</th>\n",
       "      <th>ALCEVER</th>\n",
       "      <th>MJEVER</th>\n",
       "      <th>COCEVER</th>\n",
       "      <th>HEREVER</th>\n",
       "      <th>DRIVALC2</th>\n",
       "    </tr>\n",
       "  </thead>\n",
       "  <tbody>\n",
       "    <tr>\n",
       "      <th>11958</th>\n",
       "      <td>1</td>\n",
       "      <td>1</td>\n",
       "      <td>1</td>\n",
       "      <td>1</td>\n",
       "      <td>2</td>\n",
       "      <td>2</td>\n",
       "    </tr>\n",
       "    <tr>\n",
       "      <th>7924</th>\n",
       "      <td>2</td>\n",
       "      <td>2</td>\n",
       "      <td>2</td>\n",
       "      <td>2</td>\n",
       "      <td>2</td>\n",
       "      <td>4</td>\n",
       "    </tr>\n",
       "    <tr>\n",
       "      <th>12170</th>\n",
       "      <td>2</td>\n",
       "      <td>1</td>\n",
       "      <td>2</td>\n",
       "      <td>2</td>\n",
       "      <td>2</td>\n",
       "      <td>2</td>\n",
       "    </tr>\n",
       "    <tr>\n",
       "      <th>49700</th>\n",
       "      <td>2</td>\n",
       "      <td>2</td>\n",
       "      <td>2</td>\n",
       "      <td>2</td>\n",
       "      <td>2</td>\n",
       "      <td>4</td>\n",
       "    </tr>\n",
       "    <tr>\n",
       "      <th>34589</th>\n",
       "      <td>2</td>\n",
       "      <td>2</td>\n",
       "      <td>2</td>\n",
       "      <td>2</td>\n",
       "      <td>2</td>\n",
       "      <td>4</td>\n",
       "    </tr>\n",
       "  </tbody>\n",
       "</table>\n",
       "</div>"
      ],
      "text/plain": [
       "       CIGEVER  ALCEVER  MJEVER  COCEVER  HEREVER  DRIVALC2\n",
       "11958        1        1       1        1        2         2\n",
       "7924         2        2       2        2        2         4\n",
       "12170        2        1       2        2        2         2\n",
       "49700        2        2       2        2        2         4\n",
       "34589        2        2       2        2        2         4"
      ]
     },
     "execution_count": 5,
     "metadata": {},
     "output_type": "execute_result"
    }
   ],
   "source": [
    "usedColumns = ['CIGEVER','ALCEVER','MJEVER', 'COCEVER', 'HEREVER', 'BOOKED', 'DRIVALC2']\n",
    "usedFeatures = ['CIGEVER','ALCEVER','MJEVER', 'COCEVER', 'HEREVER', 'DRIVALC2']\n",
    "\n",
    "# selection = raw[usedColumns]\n",
    "\n",
    "# selection.is_copy = False\n",
    "\n",
    "\n",
    "# raw[raw == 2] = 0\n",
    "# raw[raw == 4] = 0\n",
    "# raw[raw == 3] = 1\n",
    "# raw[raw == 85] = 0\n",
    "# raw[raw == 94] = 0\n",
    "# raw[raw == 97] = 1 #Refused to answer = yes\n",
    "# raw[raw == 98] = 1 #Left blank = yes\n",
    "\n",
    "# s_train, s_test = train_test_split(selection, train_size = 0.5)\n",
    "train, test = train_test_split(raw, train_size = 0.5)\n",
    "\n",
    "Y_train = train[['BOOKED']]\n",
    "# Y_test = s_test[['BOOKED']]\n",
    "\n",
    "X_train = train[usedFeatures]\n",
    "# X_test = s_test[usedFeatures]\n",
    "\n",
    "X_train.head()"
   ]
  },
  {
   "cell_type": "code",
   "execution_count": 7,
   "metadata": {
    "collapsed": false,
    "deletable": true,
    "editable": true
   },
   "outputs": [],
   "source": [
    "model = xgb.XGBRegressor(objective=\"binary:logistic\")"
   ]
  },
  {
   "cell_type": "code",
   "execution_count": null,
   "metadata": {
    "collapsed": false,
    "deletable": true,
    "editable": true
   },
   "outputs": [],
   "source": [
    "model.fit(X_train, Y_train)"
   ]
  },
  {
   "cell_type": "code",
   "execution_count": 8,
   "metadata": {
    "collapsed": false,
    "deletable": true,
    "editable": true
   },
   "outputs": [],
   "source": [
    "predictions = model.predict(X_test)\n",
    "roc_auc_score(Y_test, predictions)"
   ]
  },
  {
   "cell_type": "markdown",
   "metadata": {
    "collapsed": true,
    "deletable": true,
    "editable": true
   },
   "source": [
    "Feature Selection"
   ]
  },
  {
   "cell_type": "code",
   "execution_count": 9,
   "metadata": {
    "collapsed": false,
    "deletable": true,
    "editable": true
   },
   "outputs": [],
   "source": [
    "# estimator = SVR(kernel=\"linear\")\n",
    "# selector = RFE(estimator, 5, step=1)\n",
    "# selector = selector.fit(X_train, Y_train)\n",
    "\n",
    "# selector.ranking_"
   ]
  },
  {
   "cell_type": "markdown",
   "metadata": {
    "deletable": true,
    "editable": true
   },
   "source": [
    "Predictive Power Ranking using RFE:\n",
    "1) Heroin\n",
    "2) Cigarettes\n",
    "3) Drinking and Driving\n",
    "4) Alcohol\n",
    "5) Marijuana\n",
    "6) Cocaine"
   ]
  },
  {
   "cell_type": "code",
   "execution_count": 10,
   "metadata": {
    "collapsed": false,
    "deletable": true,
    "editable": true
   },
   "outputs": [],
   "source": [
    "# plot_importance(model, importance_type='weight')\n",
    "# pyplot.show()"
   ]
  },
  {
   "cell_type": "code",
   "execution_count": 13,
   "metadata": {
    "collapsed": false,
    "deletable": true,
    "editable": true
   },
   "outputs": [],
   "source": [
    "Y_train = train[['BOOKED']]\n",
    "Y_train.is_copy = False\n",
    "\n",
    "Y_train[Y_train == 2] = 0\n",
    "Y_train[Y_train == 4] = 0\n",
    "Y_train[Y_train == 3] = 1\n",
    "Y_train[Y_train == 85] = 0\n",
    "Y_train[Y_train == 94] = 0\n",
    "Y_train[Y_train == 97] = 1 #Refused to answer = yes\n",
    "Y_train[Y_train == 98] = 1 #Left blank = yes\n",
    "\n",
    "iterations = 50\n",
    "sliceIndex = int(3000/iterations)\n",
    "feats= []\n",
    "threshold = int(len(train)*.3)\n",
    "count = 0"
   ]
  },
  {
   "cell_type": "code",
   "execution_count": 14,
   "metadata": {
    "collapsed": false,
    "deletable": true,
    "editable": true
   },
   "outputs": [
    {
     "name": "stdout",
     "output_type": "stream",
     "text": [
      "0CIGREC\n",
      "13SLTYFU\n",
      "26CIG100LF\n",
      "48CIGAGE\n",
      "70CRAKREC\n",
      "74COCYFU\n",
      "96HALMFU\n",
      "97HALYFU\n",
      "106HALLREC\n",
      "157INHYFU\n",
      "161ANALMFU\n",
      "168ANALYFU\n",
      "172VICOLOR\n",
      "176INHREC\n",
      "193TRANYFU\n",
      "209TRANMFU\n",
      "268IRCIGRC\n",
      "275IRHALRC\n",
      "299IRCOCRC\n",
      "300IRMJRC\n",
      "335IRCOCFY\n",
      "336IRHALFY\n",
      "339IRCIGFM\n",
      "380IRHALFM\n",
      "405CIGFLAG\n",
      "406CGRFLAG\n",
      "419SMKFLAG\n",
      "420CIGMON\n",
      "446CRKFLAG\n",
      "449MRJFLAG\n",
      "450COCFLAG\n",
      "468TOBFLAG\n",
      "470TOBMON\n",
      "503CDCGMO\n",
      "518PSILCY2\n",
      "529CDUFLAG\n",
      "533CIGALCMO\n",
      "545HYDCODOP\n",
      "589OXYCODP2\n",
      "596CIGAFU\n",
      "599DCIGAFU\n",
      "603MJAFU\n",
      "630FUCOC21\n",
      "635FUHAL21\n",
      "663FUSUM21\n",
      "755COCNEEDL\n",
      "765RSKMJREG\n",
      "770STNEDL06\n",
      "801NDLREC06\n",
      "802CIGAVOID\n",
      "819CIGSVLHR\n",
      "828CIGINCTL\n",
      "831CIGFNSMK\n",
      "850MEDMJALL\n",
      "852MEDMJYR\n",
      "856BLNTYFU\n",
      "860MRJPHCTD\n",
      "900COCPHCTD\n",
      "916COCFMCTD\n",
      "938HALPHCTD\n",
      "960ANLPHCTD\n",
      "978STMPHCTD\n",
      "995TRNPHCTD\n",
      "1017IRCGROUT\n",
      "1031IICGNCTL\n",
      "1055IICGAVD\n",
      "1059MMLS5LBS\n",
      "1066MMTRADE\n",
      "1076MMTJNTNM\n",
      "1077PROB\n",
      "1081MMJNTNUM\n",
      "1093MMFSELL\n",
      "1095HALAGLST\n",
      "1105COCAGLST\n",
      "1114MMTSELL\n",
      "1116MRJYRBFR\n",
      "1120COCMLU\n",
      "1133MMFGIVE\n",
      "1137LSDYLU\n",
      "1138HALYLU\n",
      "1144ANLFFOSP\n",
      "1188MTHOTHS2\n",
      "1198TRNFFOSP\n",
      "1207TRNGTOS2\n",
      "1219COCYRBFR\n",
      "1284TXEVER\n",
      "1370TXILALEV\n",
      "1391SPILLALC\n",
      "1407TXNDILAL\n",
      "1469TXGPILAL\n",
      "1487HPQTTOB\n",
      "1508HPDRGTLK\n",
      "1543AUINPYR\n",
      "1581AUALTYR\n",
      "1653SNFAMJEV\n",
      "1686YOATTAK2\n",
      "1710YOSTOLE2\n",
      "1782SMIPP_U\n",
      "1792AMIDA2_U\n",
      "1825LMMIYRU\n",
      "1841AMDEY2_U\n",
      "1943RESIDVST\n",
      "1959HOMEVST\n",
      "2101CADRKINH\n"
     ]
    }
   ],
   "source": [
    "for i in range(1,iterations):\n",
    "    X_train = train.iloc[:,list(range((i-1)*sliceIndex,i*sliceIndex))]\n",
    "    model.fit(X_train, Y_train)\n",
    "    rankings = model.booster().get_score(importance_type='gain')\n",
    "\n",
    "    for key,value in rankings.items():\n",
    "        if value > 50:\n",
    "            counts = X_train[key].value_counts()\n",
    "                \n",
    "            try:\n",
    "                condition1 = counts[99] < threshold\n",
    "            except KeyError:\n",
    "                try:\n",
    "                    condition1 = counts[999] < threshold\n",
    "                except KeyError:\n",
    "                    try:\n",
    "                        condition1 = counts[9999] < threshold\n",
    "                    except:\n",
    "                        condition1 = True\n",
    "                        \n",
    "            try:\n",
    "                condition2 = counts[98] < threshold\n",
    "            except KeyError:\n",
    "                try:\n",
    "                    condition2 = counts[998] < threshold\n",
    "                except KeyError:\n",
    "                    try:\n",
    "                        condition2 = counts[9998] < threshold\n",
    "                    except:\n",
    "                        condition2 = True\n",
    "            \n",
    "            try:\n",
    "                condition3 = counts[-9] < threshold\n",
    "            except KeyError:\n",
    "                condition3 = True\n",
    "                        \n",
    "            if(condition1 and condition2):\n",
    "                print(str(count) + key)\n",
    "                feats.append([key, value])\n",
    "        count = count + 1"
   ]
  },
  {
   "cell_type": "code",
   "execution_count": 15,
   "metadata": {
    "collapsed": false,
    "deletable": true,
    "editable": true
   },
   "outputs": [],
   "source": [
    "feats.sort(key=lambda x: x[1], reverse=True)"
   ]
  },
  {
   "cell_type": "code",
   "execution_count": 16,
   "metadata": {
    "collapsed": false,
    "deletable": true,
    "editable": true
   },
   "outputs": [
    {
     "data": {
      "text/plain": [
       "[['TXILALEV', 608.586],\n",
       " ['MMTSELL', 531.3294444444444],\n",
       " ['HALYFU', 498.96304999999995],\n",
       " ['IICGAVD', 409.39132777777775],\n",
       " ['MMTJNTNM', 386.7596],\n",
       " ['ANLFFOSP', 366.2269000000001],\n",
       " ['STMPHCTD', 349.1151],\n",
       " ['MMFGIVE', 325.37323],\n",
       " ['CADRKINH', 290.59656111111116],\n",
       " ['HALLREC', 279.1973866666667],\n",
       " ['COCYFU', 275.9865282608696],\n",
       " ['COCPHCTD', 268.28366428571434],\n",
       " ['MEDMJALL', 267.29704958333326],\n",
       " ['IRHALFY', 257.5832523809524],\n",
       " ['COCNEEDL', 249.10738579069758],\n",
       " ['CIGFLAG', 232.95966413793104],\n",
       " ['MJAFU', 227.07313372093017],\n",
       " ['CIGAGE', 210.78588875000003],\n",
       " ['TRNFFOSP', 204.61800000000002],\n",
       " ['MRJPHCTD', 198.04333625],\n",
       " ['COCFLAG', 195.5087165757576],\n",
       " ['MMJNTNUM', 190.507344],\n",
       " ['RESIDVST', 184.75271750000002],\n",
       " ['BLNTYFU', 179.13191677419357],\n",
       " ['IRCOCRC', 175.84073972972968],\n",
       " ['STNEDL06', 174.51964166666667],\n",
       " ['LSDYLU', 174.09550000000002],\n",
       " ['IICGNCTL', 172.96455],\n",
       " ['CDCGMO', 168.4285],\n",
       " ['TRNPHCTD', 167.50475454545457],\n",
       " ['COCFMCTD', 166.71478270370358],\n",
       " ['MMTRADE', 166.26536000000004],\n",
       " ['MRJFLAG', 165.9479973030303],\n",
       " ['HYDCODOP', 165.64128123076915],\n",
       " ['TXNDILAL', 164.93822400000005],\n",
       " ['IRCIGRC', 154.75114879518074],\n",
       " ['HALMFU', 150.328028],\n",
       " ['TRANYFU', 148.36828705555553],\n",
       " ['SNFAMJEV', 147.44252974358966],\n",
       " ['MMFSELL', 146.82326799999998],\n",
       " ['TXEVER', 143.36255193999997],\n",
       " ['CIGREC', 139.61785999999998],\n",
       " ['VICOLOR', 137.63665152941175],\n",
       " ['IRCOCFY', 136.30734638709683],\n",
       " ['DCIGAFU', 132.4110529411765],\n",
       " ['ANALYFU', 129.88667894736844],\n",
       " ['COCYRBFR', 125.31768244736854],\n",
       " ['PROB', 124.49025782608696],\n",
       " ['MRJYRBFR', 123.23557113333335],\n",
       " ['HALYLU', 121.11090999999999],\n",
       " ['MMLS5LBS', 115.22749999999999],\n",
       " ['COCAGLST', 112.72533088235292],\n",
       " ['TOBFLAG', 111.2995341612903],\n",
       " ['AUINPYR', 110.33368660869564],\n",
       " ['IRCGROUT', 109.98958538888888],\n",
       " ['ANLPHCTD', 106.4402126923077],\n",
       " ['YOSTOLE2', 103.3722455555556],\n",
       " ['MTHOTHS2', 102.2560784318181],\n",
       " ['IRMJRC', 100.42384582658224],\n",
       " ['HOMEVST', 100.21464305405408],\n",
       " ['IRCIGFM', 97.55222063235293],\n",
       " ['HALPHCTD', 96.78114133333335],\n",
       " ['FUCOC21', 95.8984109090909],\n",
       " ['HPDRGTLK', 95.49825824324321],\n",
       " ['LMMIYRU', 93.84615547272725],\n",
       " ['CIGAFU', 92.16580676470588],\n",
       " ['FUHAL21', 90.69662352941178],\n",
       " ['OXYCODP2', 86.98825222222223],\n",
       " ['PSILCY2', 84.23617250000001],\n",
       " ['MEDMJYR', 76.70081388888889],\n",
       " ['AUALTYR', 74.22986602985073],\n",
       " ['CIGSVLHR', 72.83833333333332],\n",
       " ['HALAGLST', 70.18856875],\n",
       " ['SPILLALC', 69.13033636363637],\n",
       " ['CIGFNSMK', 68.7763375],\n",
       " ['INHYFU', 67.99364687500001],\n",
       " ['INHREC', 66.01003428571428],\n",
       " ['AMDEY2_U', 65.95896003571428],\n",
       " ['TXGPILAL', 64.1647231111111],\n",
       " ['TOBMON', 64.13035908333332],\n",
       " ['RSKMJREG', 63.6373358327869],\n",
       " ['HPQTTOB', 63.03794635514018],\n",
       " ['SLTYFU', 62.59314166666667],\n",
       " ['CIG100LF', 60.92671647058825],\n",
       " ['AMIDA2_U', 60.09446818181818],\n",
       " ['CRAKREC', 59.71281461538461],\n",
       " ['IRHALRC', 59.68698950000001],\n",
       " ['CIGMON', 59.630946874999985],\n",
       " ['CIGALCMO', 58.698171176470574],\n",
       " ['COCMLU', 57.412930625],\n",
       " ['SMKFLAG', 57.02656529411765],\n",
       " ['CIGAVOID', 56.95794550000001],\n",
       " ['CIGINCTL', 56.95612388888888],\n",
       " ['TRNGTOS2', 56.30055579999999],\n",
       " ['IRHALFM', 55.39747518750001],\n",
       " ['FUSUM21', 52.95322142857143],\n",
       " ['YOATTAK2', 52.28033481481481],\n",
       " ['ANALMFU', 52.01376284000002],\n",
       " ['CRKFLAG', 51.844887333333325],\n",
       " ['CGRFLAG', 51.789076],\n",
       " ['NDLREC06', 50.795595999999996],\n",
       " ['CDUFLAG', 50.27611285714286],\n",
       " ['TRANMFU', 50.20618272727274],\n",
       " ['SMIPP_U', 50.04536025210083]]"
      ]
     },
     "execution_count": 16,
     "metadata": {},
     "output_type": "execute_result"
    }
   ],
   "source": [
    "feats"
   ]
  },
  {
   "cell_type": "code",
   "execution_count": 26,
   "metadata": {
    "collapsed": false,
    "deletable": true,
    "editable": true
   },
   "outputs": [],
   "source": [
    "lst2 = [item[0] for item in feats]\n",
    "#lst2.remove('CIGEVER')\n",
    "#lst2.remove('QUESTID2')"
   ]
  },
  {
   "cell_type": "code",
   "execution_count": 18,
   "metadata": {
    "collapsed": false,
    "deletable": true,
    "editable": true
   },
   "outputs": [],
   "source": [
    "lst2 = lst2[:150]"
   ]
  },
  {
   "cell_type": "code",
   "execution_count": 27,
   "metadata": {
    "collapsed": false,
    "deletable": true,
    "editable": true,
    "scrolled": true
   },
   "outputs": [
    {
     "data": {
      "text/plain": [
       "['TXILALEV',\n",
       " 'MMTSELL',\n",
       " 'HALYFU',\n",
       " 'IICGAVD',\n",
       " 'MMTJNTNM',\n",
       " 'ANLFFOSP',\n",
       " 'STMPHCTD',\n",
       " 'MMFGIVE',\n",
       " 'CADRKINH',\n",
       " 'HALLREC',\n",
       " 'COCYFU',\n",
       " 'COCPHCTD',\n",
       " 'MEDMJALL',\n",
       " 'IRHALFY',\n",
       " 'COCNEEDL',\n",
       " 'CIGFLAG',\n",
       " 'MJAFU',\n",
       " 'CIGAGE',\n",
       " 'TRNFFOSP',\n",
       " 'MRJPHCTD',\n",
       " 'COCFLAG',\n",
       " 'MMJNTNUM',\n",
       " 'RESIDVST',\n",
       " 'BLNTYFU',\n",
       " 'IRCOCRC',\n",
       " 'STNEDL06',\n",
       " 'LSDYLU',\n",
       " 'IICGNCTL',\n",
       " 'CDCGMO',\n",
       " 'TRNPHCTD',\n",
       " 'COCFMCTD',\n",
       " 'MMTRADE',\n",
       " 'MRJFLAG',\n",
       " 'HYDCODOP',\n",
       " 'TXNDILAL',\n",
       " 'IRCIGRC',\n",
       " 'HALMFU',\n",
       " 'TRANYFU',\n",
       " 'SNFAMJEV',\n",
       " 'MMFSELL',\n",
       " 'TXEVER',\n",
       " 'CIGREC',\n",
       " 'VICOLOR',\n",
       " 'IRCOCFY',\n",
       " 'DCIGAFU',\n",
       " 'ANALYFU',\n",
       " 'COCYRBFR',\n",
       " 'PROB',\n",
       " 'MRJYRBFR',\n",
       " 'HALYLU',\n",
       " 'MMLS5LBS',\n",
       " 'COCAGLST',\n",
       " 'TOBFLAG',\n",
       " 'AUINPYR',\n",
       " 'IRCGROUT',\n",
       " 'ANLPHCTD',\n",
       " 'YOSTOLE2',\n",
       " 'MTHOTHS2',\n",
       " 'IRMJRC',\n",
       " 'HOMEVST',\n",
       " 'IRCIGFM',\n",
       " 'HALPHCTD',\n",
       " 'FUCOC21',\n",
       " 'HPDRGTLK',\n",
       " 'LMMIYRU',\n",
       " 'CIGAFU',\n",
       " 'FUHAL21',\n",
       " 'OXYCODP2',\n",
       " 'PSILCY2',\n",
       " 'MEDMJYR',\n",
       " 'AUALTYR',\n",
       " 'CIGSVLHR',\n",
       " 'HALAGLST',\n",
       " 'SPILLALC',\n",
       " 'CIGFNSMK',\n",
       " 'INHYFU',\n",
       " 'INHREC',\n",
       " 'AMDEY2_U',\n",
       " 'TXGPILAL',\n",
       " 'TOBMON',\n",
       " 'RSKMJREG',\n",
       " 'HPQTTOB',\n",
       " 'SLTYFU',\n",
       " 'CIG100LF',\n",
       " 'AMIDA2_U',\n",
       " 'CRAKREC',\n",
       " 'IRHALRC',\n",
       " 'CIGMON',\n",
       " 'CIGALCMO',\n",
       " 'COCMLU',\n",
       " 'SMKFLAG',\n",
       " 'CIGAVOID',\n",
       " 'CIGINCTL',\n",
       " 'TRNGTOS2',\n",
       " 'IRHALFM',\n",
       " 'FUSUM21',\n",
       " 'YOATTAK2',\n",
       " 'ANALMFU',\n",
       " 'CRKFLAG',\n",
       " 'CGRFLAG',\n",
       " 'NDLREC06',\n",
       " 'CDUFLAG',\n",
       " 'TRANMFU',\n",
       " 'SMIPP_U']"
      ]
     },
     "execution_count": 27,
     "metadata": {},
     "output_type": "execute_result"
    }
   ],
   "source": [
    "lst2"
   ]
  },
  {
   "cell_type": "code",
   "execution_count": 20,
   "metadata": {
    "collapsed": false,
    "deletable": true,
    "editable": true
   },
   "outputs": [],
   "source": [
    "minXTrain = train[lst2]\n",
    "minXTest = test[lst2]"
   ]
  },
  {
   "cell_type": "code",
   "execution_count": 21,
   "metadata": {
    "collapsed": false,
    "deletable": true,
    "editable": true
   },
   "outputs": [],
   "source": [
    "Y_test = test[['BOOKED']]\n",
    "Y_test.is_copy = False\n",
    "Y_test[Y_test == 2] = 0\n",
    "Y_test[Y_test == 4] = 0\n",
    "Y_test[Y_test == 3] = 1\n",
    "Y_test[Y_test == 85] = 0\n",
    "Y_test[Y_test == 94] = 0\n",
    "Y_test[Y_test == 97] = 1 #Refused to answer = yes\n",
    "Y_test[Y_test == 98] = 1 #Left blank = yes"
   ]
  },
  {
   "cell_type": "code",
   "execution_count": 22,
   "metadata": {
    "collapsed": false,
    "deletable": true,
    "editable": true
   },
   "outputs": [
    {
     "data": {
      "text/plain": [
       "XGBRegressor(base_score=0.5, colsample_bylevel=1, colsample_bytree=1, gamma=0,\n",
       "       learning_rate=0.1, max_delta_step=0, max_depth=3,\n",
       "       min_child_weight=1, missing=None, n_estimators=100, nthread=-1,\n",
       "       objective='binary:logistic', reg_alpha=0, reg_lambda=1,\n",
       "       scale_pos_weight=1, seed=0, silent=True, subsample=1)"
      ]
     },
     "execution_count": 22,
     "metadata": {},
     "output_type": "execute_result"
    }
   ],
   "source": [
    "model = xgb.XGBRegressor(n_estimators=100, objective=\"binary:logistic\")\n",
    "model.fit(minXTrain, Y_train)"
   ]
  },
  {
   "cell_type": "code",
   "execution_count": 23,
   "metadata": {
    "collapsed": false,
    "deletable": true,
    "editable": true
   },
   "outputs": [
    {
     "data": {
      "text/plain": [
       "0.86244412712642493"
      ]
     },
     "execution_count": 23,
     "metadata": {},
     "output_type": "execute_result"
    }
   ],
   "source": [
    "predictions = model.predict(minXTest)\n",
    "roc_auc_score(Y_test, predictions)"
   ]
  },
  {
   "cell_type": "code",
   "execution_count": 24,
   "metadata": {
    "collapsed": false,
    "deletable": true,
    "editable": true
   },
   "outputs": [],
   "source": [
    "minXTrain.to_csv(\"X_Train.csv\")\n",
    "minXTest.to_csv(\"X_Test.csv\")\n",
    "Y_train.to_csv(\"Y_Train.csv\")\n",
    "Y_test.to_csv(\"Y_Test.csv\")"
   ]
  },
  {
   "cell_type": "code",
   "execution_count": 25,
   "metadata": {
    "collapsed": false,
    "deletable": true,
    "editable": true
   },
   "outputs": [
    {
     "ename": "AttributeError",
     "evalue": "'numpy.ndarray' object has no attribute 'to_csv'",
     "output_type": "error",
     "traceback": [
      "\u001b[1;31m---------------------------------------------------------------------------\u001b[0m",
      "\u001b[1;31mAttributeError\u001b[0m                            Traceback (most recent call last)",
      "\u001b[1;32m<ipython-input-25-1e6460d522b0>\u001b[0m in \u001b[0;36m<module>\u001b[1;34m()\u001b[0m\n\u001b[1;32m----> 1\u001b[1;33m \u001b[0mpredictions\u001b[0m\u001b[1;33m.\u001b[0m\u001b[0mto_csv\u001b[0m\u001b[1;33m(\u001b[0m\u001b[1;34m'predictions.csv'\u001b[0m\u001b[1;33m)\u001b[0m\u001b[1;33m\u001b[0m\u001b[0m\n\u001b[0m",
      "\u001b[1;31mAttributeError\u001b[0m: 'numpy.ndarray' object has no attribute 'to_csv'"
     ]
    }
   ],
   "source": [
    "predictions.to_csv('predictions.csv')"
   ]
  },
  {
   "cell_type": "code",
   "execution_count": null,
   "metadata": {
    "collapsed": true,
    "deletable": true,
    "editable": true
   },
   "outputs": [],
   "source": []
  }
 ],
 "metadata": {
  "kernelspec": {
   "display_name": "Python 3",
   "language": "python",
   "name": "python3"
  },
  "language_info": {
   "codemirror_mode": {
    "name": "ipython",
    "version": 3
   },
   "file_extension": ".py",
   "mimetype": "text/x-python",
   "name": "python",
   "nbconvert_exporter": "python",
   "pygments_lexer": "ipython3",
   "version": "3.5.3"
  }
 },
 "nbformat": 4,
 "nbformat_minor": 2
}
