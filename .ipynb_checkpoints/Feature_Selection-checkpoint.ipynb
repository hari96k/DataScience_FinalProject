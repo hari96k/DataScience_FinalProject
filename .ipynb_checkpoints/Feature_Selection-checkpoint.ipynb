{
 "cells": [
  {
   "cell_type": "code",
   "execution_count": 1,
   "metadata": {
    "collapsed": false,
    "deletable": true,
    "editable": true
   },
   "outputs": [
    {
     "name": "stderr",
     "output_type": "stream",
     "text": [
      "C:\\ProgramData\\Anaconda3\\lib\\site-packages\\sklearn\\cross_validation.py:44: DeprecationWarning: This module was deprecated in version 0.18 in favor of the model_selection module into which all the refactored classes and functions are moved. Also note that the interface of the new CV iterators are different from that of this module. This module will be removed in 0.20.\n",
      "  \"This module will be removed in 0.20.\", DeprecationWarning)\n"
     ]
    }
   ],
   "source": [
    "import pandas as pd\n",
    "import numpy as np\n",
    "from sklearn.cross_validation import train_test_split\n",
    "from sklearn.feature_selection import RFE\n",
    "import sklearn.feature_selection\n",
    "import xgboost as xgb\n",
    "from sklearn.metrics import roc_auc_score\n",
    "\n",
    "from numpy import loadtxt\n",
    "from xgboost import plot_importance\n",
    "from matplotlib import pyplot"
   ]
  },
  {
   "cell_type": "code",
   "execution_count": 2,
   "metadata": {
    "collapsed": false,
    "deletable": true,
    "editable": true
   },
   "outputs": [],
   "source": [
    "raw = pd.read_csv(\"raw.csv\")"
   ]
  },
  {
   "cell_type": "code",
   "execution_count": 3,
   "metadata": {
    "collapsed": false,
    "deletable": true,
    "editable": true,
    "scrolled": false
   },
   "outputs": [
    {
     "data": {
      "text/html": [
       "<div>\n",
       "<table border=\"1\" class=\"dataframe\">\n",
       "  <thead>\n",
       "    <tr style=\"text-align: right;\">\n",
       "      <th></th>\n",
       "      <th>CIGEVER</th>\n",
       "      <th>ALCEVER</th>\n",
       "      <th>MJEVER</th>\n",
       "      <th>COCEVER</th>\n",
       "      <th>HEREVER</th>\n",
       "      <th>DRIVALC2</th>\n",
       "    </tr>\n",
       "  </thead>\n",
       "  <tbody>\n",
       "    <tr>\n",
       "      <th>40309</th>\n",
       "      <td>0</td>\n",
       "      <td>1</td>\n",
       "      <td>0</td>\n",
       "      <td>0</td>\n",
       "      <td>0</td>\n",
       "      <td>0</td>\n",
       "    </tr>\n",
       "    <tr>\n",
       "      <th>2331</th>\n",
       "      <td>0</td>\n",
       "      <td>0</td>\n",
       "      <td>0</td>\n",
       "      <td>0</td>\n",
       "      <td>0</td>\n",
       "      <td>0</td>\n",
       "    </tr>\n",
       "    <tr>\n",
       "      <th>2533</th>\n",
       "      <td>1</td>\n",
       "      <td>1</td>\n",
       "      <td>1</td>\n",
       "      <td>0</td>\n",
       "      <td>0</td>\n",
       "      <td>0</td>\n",
       "    </tr>\n",
       "    <tr>\n",
       "      <th>44737</th>\n",
       "      <td>1</td>\n",
       "      <td>1</td>\n",
       "      <td>1</td>\n",
       "      <td>0</td>\n",
       "      <td>0</td>\n",
       "      <td>0</td>\n",
       "    </tr>\n",
       "    <tr>\n",
       "      <th>724</th>\n",
       "      <td>1</td>\n",
       "      <td>1</td>\n",
       "      <td>1</td>\n",
       "      <td>0</td>\n",
       "      <td>0</td>\n",
       "      <td>1</td>\n",
       "    </tr>\n",
       "  </tbody>\n",
       "</table>\n",
       "</div>"
      ],
      "text/plain": [
       "       CIGEVER  ALCEVER  MJEVER  COCEVER  HEREVER  DRIVALC2\n",
       "40309        0        1       0        0        0         0\n",
       "2331         0        0       0        0        0         0\n",
       "2533         1        1       1        0        0         0\n",
       "44737        1        1       1        0        0         0\n",
       "724          1        1       1        0        0         1"
      ]
     },
     "execution_count": 3,
     "metadata": {},
     "output_type": "execute_result"
    }
   ],
   "source": [
    "usedColumns = ['CIGEVER','ALCEVER','MJEVER', 'COCEVER', 'HEREVER', 'BOOKED', 'DRIVALC2']\n",
    "usedFeatures = ['CIGEVER','ALCEVER','MJEVER', 'COCEVER', 'HEREVER', 'DRIVALC2']\n",
    "\n",
    "selection = raw[usedColumns]\n",
    "\n",
    "selection.is_copy = False\n",
    "\n",
    "\n",
    "selection[selection == 2] = 0\n",
    "selection[selection == 4] = 0\n",
    "selection[selection == 3] = 1\n",
    "selection[selection == 85] = 0\n",
    "selection[selection == 94] = 0\n",
    "selection[selection == 97] = 1 #Refused to answer = yes\n",
    "selection[selection == 98] = 1 #Left blank = yes\n",
    "\n",
    "s_train, s_test = train_test_split(selection, train_size = 0.5)\n",
    "train, test = train_test_split(raw, train_size = 0.8)\n",
    "\n",
    "Y_train = s_train[['BOOKED']]\n",
    "Y_test = s_test[['BOOKED']]\n",
    "\n",
    "X_train = s_train[usedFeatures]\n",
    "X_test = s_test[usedFeatures]\n",
    "\n",
    "X_train.head()"
   ]
  },
  {
   "cell_type": "code",
   "execution_count": 4,
   "metadata": {
    "collapsed": false,
    "deletable": true,
    "editable": true
   },
   "outputs": [],
   "source": [
    "model = xgb.XGBRegressor(objective=\"binary:logistic\")"
   ]
  },
  {
   "cell_type": "code",
   "execution_count": 5,
   "metadata": {
    "collapsed": false,
    "deletable": true,
    "editable": true
   },
   "outputs": [
    {
     "data": {
      "text/plain": [
       "XGBRegressor(base_score=0.5, colsample_bylevel=1, colsample_bytree=1, gamma=0,\n",
       "       learning_rate=0.1, max_delta_step=0, max_depth=3,\n",
       "       min_child_weight=1, missing=None, n_estimators=100, nthread=-1,\n",
       "       objective='binary:logistic', reg_alpha=0, reg_lambda=1,\n",
       "       scale_pos_weight=1, seed=0, silent=True, subsample=1)"
      ]
     },
     "execution_count": 5,
     "metadata": {},
     "output_type": "execute_result"
    }
   ],
   "source": [
    "model.fit(X_train, Y_train)"
   ]
  },
  {
   "cell_type": "code",
   "execution_count": 6,
   "metadata": {
    "collapsed": false,
    "deletable": true,
    "editable": true
   },
   "outputs": [
    {
     "data": {
      "text/plain": [
       "0.78386761167356234"
      ]
     },
     "execution_count": 6,
     "metadata": {},
     "output_type": "execute_result"
    }
   ],
   "source": [
    "predictions = model.predict(X_test)\n",
    "roc_auc_score(Y_test, predictions)"
   ]
  },
  {
   "cell_type": "markdown",
   "metadata": {
    "collapsed": true,
    "deletable": true,
    "editable": true
   },
   "source": [
    "Feature Selection"
   ]
  },
  {
   "cell_type": "code",
   "execution_count": 7,
   "metadata": {
    "collapsed": false,
    "deletable": true,
    "editable": true
   },
   "outputs": [],
   "source": [
    "# estimator = SVR(kernel=\"linear\")\n",
    "# selector = RFE(estimator, 5, step=1)\n",
    "# selector = selector.fit(X_train, Y_train)\n",
    "\n",
    "# selector.ranking_"
   ]
  },
  {
   "cell_type": "markdown",
   "metadata": {
    "deletable": true,
    "editable": true
   },
   "source": [
    "Predictive Power Ranking:\n",
    "1) Heroin\n",
    "2) Cigarettes\n",
    "3) Drinking and Driving\n",
    "4) Alcohol\n",
    "5) Marijuana\n",
    "6) Cocaine"
   ]
  },
  {
   "cell_type": "code",
   "execution_count": 7,
   "metadata": {
    "collapsed": false,
    "deletable": true,
    "editable": true
   },
   "outputs": [
    {
     "data": {
      "image/png": "[encoded data removed]",
      "text/plain": [
       "<matplotlib.figure.Figure at 0x8c6b275390>"
      ]
     },
     "metadata": {},
     "output_type": "display_data"
    }
   ],
   "source": [
    "plot_importance(model, importance_type='gain')\n",
    "pyplot.show()"
   ]
  },
  {
   "cell_type": "code",
   "execution_count": 8,
   "metadata": {
    "collapsed": false,
    "deletable": true,
    "editable": true
   },
   "outputs": [],
   "source": [
    "Y_train = train[['BOOKED']]\n",
    "\n",
    "Y_train[Y_train == 2] = 0\n",
    "Y_train[Y_train == 4] = 0\n",
    "Y_train[Y_train == 3] = 1\n",
    "Y_train[Y_train == 85] = 0\n",
    "Y_train[Y_train == 94] = 0\n",
    "Y_train[Y_train == 97] = 1 #Refused to answer = yes\n",
    "Y_train[Y_train == 98] = 1 #Left blank = yes\n",
    "\n",
    "iterations = 500\n",
    "sliceIndex = int(3000/iterations)\n",
    "feats= []\n",
    "threshold = int(len(X_train)*.3)\n",
    "count = 0"
   ]
  },
  {
   "cell_type": "code",
   "execution_count": null,
   "metadata": {
    "collapsed": true
   },
   "outputs": [],
   "source": [
    "for i in range(1,iterations):\n",
    "    X_train = train.iloc[:,list(range((i-1)*sliceIndex,i*sliceIndex))]\n",
    "    model.fit(X_train, Y_train)\n",
    "    rankings = model.booster().get_score(importance_type='gain')\n",
    "\n",
    "    for key,value in rankings.items():\n",
    "        if value > .8:\n",
    "            counts = X_train[key].value_counts()\n",
    "            try:\n",
    "                condition1 = counts[99] < threshold\n",
    "            except KeyError:\n",
    "                try:\n",
    "                    condition1 = counts[999] < threshold\n",
    "                except KeyError:\n",
    "                    try:\n",
    "                        condition1 = counts[9999] < threshold\n",
    "                    except:\n",
    "                        condition1 = True\n",
    "                        \n",
    "            try:\n",
    "                condition2 = counts[98] < threshold\n",
    "            except KeyError:\n",
    "                try:\n",
    "                    condition2 = counts[998] < threshold\n",
    "                except KeyError:\n",
    "                    try:\n",
    "                        condition2 = counts[9998] < threshold\n",
    "                    except:\n",
    "                        condition2 = True\n",
    "                        \n",
    "            if(condition1 and condition2):\n",
    "                print(str(count) + key)\n",
    "                feats.append([key, value])\n",
    "        count = count + 1"
   ]
  },
  {
   "cell_type": "code",
   "execution_count": null,
   "metadata": {
    "collapsed": false,
    "deletable": true,
    "editable": true
   },
   "outputs": [],
   "source": [
    "feats.sort(key=lambda x: x[1], reverse=True)"
   ]
  },
  {
   "cell_type": "code",
   "execution_count": null,
   "metadata": {
    "collapsed": false,
    "deletable": true,
    "editable": true
   },
   "outputs": [],
   "source": [
    "lst2 = [item[0] for item in feats]\n",
    "lst2.remove('CASEID')\n",
    "lst2.remove('QUESTID2')"
   ]
  },
  {
   "cell_type": "code",
   "execution_count": null,
   "metadata": {
    "collapsed": false,
    "deletable": true,
    "editable": true
   },
   "outputs": [],
   "source": [
    "lst2 = lst2[:30]"
   ]
  },
  {
   "cell_type": "code",
   "execution_count": null,
   "metadata": {
    "collapsed": false,
    "deletable": true,
    "editable": true
   },
   "outputs": [],
   "source": [
    "minXTrain = train[lst2]\n",
    "minXTest = test[lst2]"
   ]
  },
  {
   "cell_type": "code",
   "execution_count": null,
   "metadata": {
    "collapsed": false,
    "deletable": true,
    "editable": true
   },
   "outputs": [],
   "source": [
    "Y_test = test[['BOOKED']]\n",
    "Y_test[Y_test == 85] = 0\n",
    "Y_test[Y_test == 94] = 0\n",
    "Y_test[Y_test == 97] = 1 #Refused to answer = yes\n",
    "Y_test[Y_test == 98] = 1 #Left blank = yes"
   ]
  },
  {
   "cell_type": "code",
   "execution_count": null,
   "metadata": {
    "collapsed": false,
    "deletable": true,
    "editable": true
   },
   "outputs": [],
   "source": [
    "model.fit(minXTrain, Y_train)"
   ]
  },
  {
   "cell_type": "code",
   "execution_count": null,
   "metadata": {
    "collapsed": false,
    "deletable": true,
    "editable": true
   },
   "outputs": [],
   "source": [
    "predictions = model.predict(minXTest)\n",
    "roc_auc_score(Y_test, predictions)"
   ]
  },
  {
   "cell_type": "code",
   "execution_count": null,
   "metadata": {
    "collapsed": true,
    "deletable": true,
    "editable": true
   },
   "outputs": [],
   "source": []
  }
 ],
 "metadata": {
  "kernelspec": {
   "display_name": "Python 3",
   "language": "python",
   "name": "python3"
  },
  "language_info": {
   "codemirror_mode": {
    "name": "ipython",
    "version": 3
   },
   "file_extension": ".py",
   "mimetype": "text/x-python",
   "name": "python",
   "nbconvert_exporter": "python",
   "pygments_lexer": "ipython3",
   "version": "3.5.3"
  }
 },
 "nbformat": 4,
 "nbformat_minor": 2
}
