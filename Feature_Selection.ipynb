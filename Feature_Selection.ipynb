{
 "cells": [
  {
   "cell_type": "code",
   "execution_count": 1,
   "metadata": {
    "collapsed": false,
    "deletable": true,
    "editable": true
   },
   "outputs": [
    {
     "name": "stderr",
     "output_type": "stream",
     "text": [
      "C:\\ProgramData\\Anaconda3\\lib\\site-packages\\sklearn\\cross_validation.py:44: DeprecationWarning: This module was deprecated in version 0.18 in favor of the model_selection module into which all the refactored classes and functions are moved. Also note that the interface of the new CV iterators are different from that of this module. This module will be removed in 0.20.\n",
      "  \"This module will be removed in 0.20.\", DeprecationWarning)\n"
     ]
    }
   ],
   "source": [
    "import pandas as pd\n",
    "import numpy as np\n",
    "from sklearn.cross_validation import train_test_split\n",
    "from sklearn.feature_selection import RFE\n",
    "import sklearn.feature_selection\n",
    "import xgboost as xgb\n",
    "from sklearn.metrics import roc_auc_score\n",
    "\n",
    "from numpy import loadtxt\n",
    "from xgboost import plot_importance\n",
    "from matplotlib import pyplot"
   ]
  },
  {
   "cell_type": "code",
   "execution_count": 2,
   "metadata": {
    "collapsed": false,
    "deletable": true,
    "editable": true
   },
   "outputs": [],
   "source": [
    "raw = pd.read_csv(\"raw.csv\")"
   ]
  },
  {
   "cell_type": "code",
   "execution_count": 3,
   "metadata": {
    "collapsed": false,
    "deletable": true,
    "editable": true,
    "scrolled": false
   },
   "outputs": [
    {
     "data": {
      "text/html": [
       "<div>\n",
       "<table border=\"1\" class=\"dataframe\">\n",
       "  <thead>\n",
       "    <tr style=\"text-align: right;\">\n",
       "      <th></th>\n",
       "      <th>CIGEVER</th>\n",
       "      <th>ALCEVER</th>\n",
       "      <th>MJEVER</th>\n",
       "      <th>COCEVER</th>\n",
       "      <th>HEREVER</th>\n",
       "      <th>DRIVALC2</th>\n",
       "    </tr>\n",
       "  </thead>\n",
       "  <tbody>\n",
       "    <tr>\n",
       "      <th>17908</th>\n",
       "      <td>2</td>\n",
       "      <td>2</td>\n",
       "      <td>2</td>\n",
       "      <td>2</td>\n",
       "      <td>2</td>\n",
       "      <td>4</td>\n",
       "    </tr>\n",
       "    <tr>\n",
       "      <th>22391</th>\n",
       "      <td>2</td>\n",
       "      <td>2</td>\n",
       "      <td>2</td>\n",
       "      <td>2</td>\n",
       "      <td>2</td>\n",
       "      <td>4</td>\n",
       "    </tr>\n",
       "    <tr>\n",
       "      <th>54110</th>\n",
       "      <td>1</td>\n",
       "      <td>1</td>\n",
       "      <td>1</td>\n",
       "      <td>1</td>\n",
       "      <td>2</td>\n",
       "      <td>2</td>\n",
       "    </tr>\n",
       "    <tr>\n",
       "      <th>36510</th>\n",
       "      <td>1</td>\n",
       "      <td>1</td>\n",
       "      <td>1</td>\n",
       "      <td>2</td>\n",
       "      <td>2</td>\n",
       "      <td>2</td>\n",
       "    </tr>\n",
       "    <tr>\n",
       "      <th>2416</th>\n",
       "      <td>2</td>\n",
       "      <td>1</td>\n",
       "      <td>2</td>\n",
       "      <td>2</td>\n",
       "      <td>2</td>\n",
       "      <td>2</td>\n",
       "    </tr>\n",
       "  </tbody>\n",
       "</table>\n",
       "</div>"
      ],
      "text/plain": [
       "       CIGEVER  ALCEVER  MJEVER  COCEVER  HEREVER  DRIVALC2\n",
       "17908        2        2       2        2        2         4\n",
       "22391        2        2       2        2        2         4\n",
       "54110        1        1       1        1        2         2\n",
       "36510        1        1       1        2        2         2\n",
       "2416         2        1       2        2        2         2"
      ]
     },
     "execution_count": 3,
     "metadata": {},
     "output_type": "execute_result"
    }
   ],
   "source": [
    "usedColumns = ['CIGEVER','ALCEVER','MJEVER', 'COCEVER', 'HEREVER', 'BOOKED', 'DRIVALC2']\n",
    "usedFeatures = ['CIGEVER','ALCEVER','MJEVER', 'COCEVER', 'HEREVER', 'DRIVALC2']\n",
    "\n",
    "# selection = raw[usedColumns]\n",
    "\n",
    "# selection.is_copy = False\n",
    "\n",
    "\n",
    "# raw[raw == 2] = 0\n",
    "# raw[raw == 4] = 0\n",
    "# raw[raw == 3] = 1\n",
    "# raw[raw == 85] = 0\n",
    "# raw[raw == 94] = 0\n",
    "# raw[raw == 97] = 1 #Refused to answer = yes\n",
    "# raw[raw == 98] = 1 #Left blank = yes\n",
    "\n",
    "# s_train, s_test = train_test_split(selection, train_size = 0.5)\n",
    "train, test = train_test_split(raw, train_size = 0.5)\n",
    "\n",
    "Y_train = train[['BOOKED']]\n",
    "# Y_test = s_test[['BOOKED']]\n",
    "\n",
    "X_train = train[usedFeatures]\n",
    "# X_test = s_test[usedFeatures]\n",
    "\n",
    "X_train.head()"
   ]
  },
  {
   "cell_type": "code",
   "execution_count": 4,
   "metadata": {
    "collapsed": false,
    "deletable": true,
    "editable": true
   },
   "outputs": [],
   "source": [
    "model = xgb.XGBRegressor(objective=\"binary:logistic\")"
   ]
  },
  {
   "cell_type": "code",
   "execution_count": 5,
   "metadata": {
    "collapsed": false,
    "deletable": true,
    "editable": true
   },
   "outputs": [],
   "source": [
    "# model.fit(X_train, Y_train)"
   ]
  },
  {
   "cell_type": "code",
   "execution_count": 6,
   "metadata": {
    "collapsed": false,
    "deletable": true,
    "editable": true
   },
   "outputs": [],
   "source": [
    "# predictions = model.predict(X_test)\n",
    "# roc_auc_score(Y_test, predictions)"
   ]
  },
  {
   "cell_type": "markdown",
   "metadata": {
    "collapsed": true,
    "deletable": true,
    "editable": true
   },
   "source": [
    "Feature Selection"
   ]
  },
  {
   "cell_type": "code",
   "execution_count": 7,
   "metadata": {
    "collapsed": false,
    "deletable": true,
    "editable": true
   },
   "outputs": [],
   "source": [
    "# estimator = SVR(kernel=\"linear\")\n",
    "# selector = RFE(estimator, 5, step=1)\n",
    "# selector = selector.fit(X_train, Y_train)\n",
    "\n",
    "# selector.ranking_"
   ]
  },
  {
   "cell_type": "markdown",
   "metadata": {
    "deletable": true,
    "editable": true
   },
   "source": [
    "Predictive Power Ranking using RFE:\n",
    "1) Heroin\n",
    "2) Cigarettes\n",
    "3) Drinking and Driving\n",
    "4) Alcohol\n",
    "5) Marijuana\n",
    "6) Cocaine"
   ]
  },
  {
   "cell_type": "code",
   "execution_count": 8,
   "metadata": {
    "collapsed": false,
    "deletable": true,
    "editable": true
   },
   "outputs": [],
   "source": [
    "# plot_importance(model, importance_type='weight')\n",
    "# pyplot.show()"
   ]
  },
  {
   "cell_type": "code",
   "execution_count": 9,
   "metadata": {
    "collapsed": false,
    "deletable": true,
    "editable": true
   },
   "outputs": [],
   "source": [
    "Y_train = train[['BOOKED']]\n",
    "Y_train.is_copy = False\n",
    "\n",
    "Y_train[Y_train == 2] = 0\n",
    "Y_train[Y_train == 4] = 0\n",
    "Y_train[Y_train == 3] = 1\n",
    "Y_train[Y_train == 85] = 0\n",
    "Y_train[Y_train == 94] = 0\n",
    "Y_train[Y_train == 97] = 1 #Refused to answer = yes\n",
    "Y_train[Y_train == 98] = 1 #Left blank = yes\n",
    "\n",
    "iterations = 50\n",
    "sliceIndex = int(3000/iterations)\n",
    "feats= []\n",
    "threshold = int(len(train)*.3)\n",
    "count = 0"
   ]
  },
  {
   "cell_type": "code",
   "execution_count": 10,
   "metadata": {
    "collapsed": false,
    "deletable": true,
    "editable": true
   },
   "outputs": [
    {
     "name": "stdout",
     "output_type": "stream",
     "text": [
      "2SLTREC\n",
      "4CIGARMFU\n",
      "19CIG30AV\n",
      "34CIG100LF\n",
      "36CIGAGE\n",
      "77COCYFU\n",
      "85CRAKREC\n",
      "104HALLREC\n",
      "139HALYFU\n",
      "156INHREC\n",
      "164ANALMFU\n",
      "168ANALYFU\n",
      "185VICOLOR\n",
      "196TRNEVER\n",
      "200TRANYFU\n",
      "242IRCIGRC\n",
      "284IRMJRC\n",
      "295IRHALRC\n",
      "297IRCOCRC\n",
      "329IICIGFM\n",
      "332IRCOCFY\n",
      "346IRMJFM\n",
      "351IRHALFY\n",
      "393IICRKAGE\n",
      "402IRSLTAGE\n",
      "411SMKFLAG\n",
      "412CIGMON\n",
      "451CIGFLAG\n",
      "461MRJFLAG\n",
      "476TOBMON\n",
      "480TOBFLAG\n",
      "498COCFLAG\n",
      "500HALFLAG\n",
      "512CIGALCMO\n",
      "522CDUFLAG\n",
      "529CDCGMO\n",
      "572HYDCODOP\n",
      "583BENZOS\n",
      "608MJAFU\n",
      "626FUHAL21\n",
      "635CIGAFU\n",
      "652CIGAVGM\n",
      "656DCIGAFU\n",
      "657FUCOC21\n",
      "666FUSUM21\n",
      "767COCNEEDL\n",
      "809RSKMJREG\n",
      "827STNEDL06\n",
      "830CIGCRAGP\n",
      "837MEDMJALL\n",
      "845CIGFNSMK\n",
      "846MEDMJYR\n",
      "858CIGNMCHG\n",
      "869CIGREGNM\n",
      "875BLNTYFU\n",
      "877CIGIRTBL\n",
      "900MRJPHCTD\n",
      "913COCPHCTD\n",
      "957COCFMCTD\n",
      "962HALFMCTD\n",
      "981HALPHCTD\n",
      "994TRNPHCTD\n",
      "1018STMPHCTD\n",
      "1045ANLPHCTD\n",
      "1055IICGCRGP\n",
      "1057IICGRGNM\n",
      "1059IRCGNINF\n",
      "1065IICGIRTB\n",
      "1071IRCGRGNM\n",
      "1079IRCGAVD\n",
      "1090MMLSLBS\n",
      "1091MMTLOZS\n",
      "1093MMTJNTNM\n",
      "1095MMLS5LBS\n",
      "1096MMTRD30D\n",
      "1102PROB\n",
      "1111MMJNPCTB\n",
      "1122MMTRADE\n",
      "1125MMTSELL\n",
      "1126MMFSELL\n",
      "1130HALYLU\n",
      "1156CIGAGLST\n",
      "1161MMGSELL\n",
      "1178COCMLU\n",
      "1181METHYLU\n",
      "1202ANLFFOSP\n",
      "1238TRNFFLSP\n",
      "1242MTHOTHS2\n",
      "1252TRNFFOSP\n",
      "1279COCYRBFR\n",
      "1282CIGYRBFR\n",
      "1434TXILALEV\n",
      "1449SPILLALC\n",
      "1468TXNDILAL\n",
      "1498TXGPILAL\n",
      "1540HPDRGTLK\n",
      "1573HPQTTOB\n",
      "1602AUINPYR\n",
      "1656AUALTYR\n",
      "1723SNFAMJEV\n",
      "1727YOSELL2\n",
      "1819GRPCNSL2\n",
      "1832AMIDA2_U\n",
      "1841LMMIYRU\n",
      "2017SPINVST2\n",
      "2030HOMEVST\n",
      "2153CADRKHER\n"
     ]
    }
   ],
   "source": [
    "for i in range(1,iterations):\n",
    "    X_train = train.iloc[:,list(range((i-1)*sliceIndex,i*sliceIndex))]\n",
    "    model.fit(X_train, Y_train)\n",
    "    rankings = model.booster().get_score(importance_type='gain')\n",
    "\n",
    "    for key,value in rankings.items():\n",
    "        if value > 50:\n",
    "            counts = X_train[key].value_counts()\n",
    "                \n",
    "            try:\n",
    "                condition1 = counts[99] < threshold\n",
    "            except KeyError:\n",
    "                try:\n",
    "                    condition1 = counts[999] < threshold\n",
    "                except KeyError:\n",
    "                    try:\n",
    "                        condition1 = counts[9999] < threshold\n",
    "                    except:\n",
    "                        condition1 = True\n",
    "                        \n",
    "            try:\n",
    "                condition2 = counts[98] < threshold\n",
    "            except KeyError:\n",
    "                try:\n",
    "                    condition2 = counts[998] < threshold\n",
    "                except KeyError:\n",
    "                    try:\n",
    "                        condition2 = counts[9998] < threshold\n",
    "                    except:\n",
    "                        condition2 = True\n",
    "            \n",
    "            try:\n",
    "                condition3 = counts[-9] < threshold\n",
    "            except KeyError:\n",
    "                condition3 = True\n",
    "                        \n",
    "            if(condition1 and condition2):\n",
    "                print(str(count) + key)\n",
    "                feats.append([key, value])\n",
    "        count = count + 1"
   ]
  },
  {
   "cell_type": "code",
   "execution_count": 11,
   "metadata": {
    "collapsed": false,
    "deletable": true,
    "editable": true
   },
   "outputs": [],
   "source": [
    "feats.sort(key=lambda x: x[1], reverse=True)"
   ]
  },
  {
   "cell_type": "code",
   "execution_count": 12,
   "metadata": {
    "collapsed": false,
    "deletable": true,
    "editable": true
   },
   "outputs": [
    {
     "data": {
      "text/plain": [
       "[['TXILALEV', 889.0065000000001],\n",
       " ['IICGRGNM', 672.8258],\n",
       " ['MMGSELL', 605.20567],\n",
       " ['MMTRD30D', 601.795],\n",
       " ['MMTSELL', 512.7955454545455],\n",
       " ['STMPHCTD', 430.30715999999995],\n",
       " ['MMLS5LBS', 366.9334],\n",
       " ['MMTLOZS', 360.897],\n",
       " ['IICGIRTB', 344.9593333333334],\n",
       " ['HALLREC', 316.9700555555555],\n",
       " ['MMJNPCTB', 301.494925],\n",
       " ['MMFSELL', 290.86396199999996],\n",
       " ['HALYFU', 278.45601076923083],\n",
       " ['COCPHCTD', 277.02990958333334],\n",
       " ['MMTJNTNM', 271.551],\n",
       " ['TRANYFU', 256.643994],\n",
       " ['CIGAGE', 256.62671534782606],\n",
       " ['CIGFLAG', 236.78228233333337],\n",
       " ['MRJPHCTD', 236.72027189189194],\n",
       " ['MMLSLBS', 233.11135999999996],\n",
       " ['YOSELL2', 232.49156571428574],\n",
       " ['MMTRADE', 231.71508571428572],\n",
       " ['COCNEEDL', 231.4307291590909],\n",
       " ['CADRKHER', 229.7407888571429],\n",
       " ['COCMLU', 225.97272857142852],\n",
       " ['MJAFU', 209.39004480769228],\n",
       " ['TRNFFOSP', 206.96974999999998],\n",
       " ['COCFLAG', 193.46181933333327],\n",
       " ['BLNTYFU', 192.48560571428567],\n",
       " ['ANLFFOSP', 178.98698181818185],\n",
       " ['IICIGFM', 172.26206794117647],\n",
       " ['IRCOCRC', 168.2507448571429],\n",
       " ['MEDMJALL', 168.15089444444445],\n",
       " ['COCYFU', 165.53777875],\n",
       " ['IRCIGRC', 158.36811948235288],\n",
       " ['SNFAMJEV', 157.45744833333336],\n",
       " ['IRHALFY', 156.69240537500005],\n",
       " ['TXNDILAL', 156.57698533333325],\n",
       " ['IRMJRC', 151.8803596874999],\n",
       " ['IRCOCFY', 151.58295143333336],\n",
       " ['HYDCODOP', 147.50640464285715],\n",
       " ['MRJFLAG', 143.1189843720931],\n",
       " ['COCFMCTD', 142.3270480483872],\n",
       " ['IICGCRGP', 139.03769999999997],\n",
       " ['TOBFLAG', 138.81365000000002],\n",
       " ['SPINVST2', 130.03376269230768],\n",
       " ['STNEDL06', 127.42469363636361],\n",
       " ['COCYRBFR', 126.14082953710154],\n",
       " ['HALPHCTD', 122.95617500000002],\n",
       " ['TRNEVER', 118.79474066666667],\n",
       " ['HPDRGTLK', 117.67348015151515],\n",
       " ['VICOLOR', 116.53321096363635],\n",
       " ['TRNPHCTD', 115.48994249999997],\n",
       " ['IRCGAVD', 111.74632874999999],\n",
       " ['MTHOTHS2', 110.41941460000002],\n",
       " ['ANLPHCTD', 107.46274304347826],\n",
       " ['AUALTYR', 105.61643],\n",
       " ['HOMEVST', 103.66000003448276],\n",
       " ['CIGCRAGP', 100.64305],\n",
       " ['LMMIYRU', 100.47833758000004],\n",
       " ['PROB', 99.56952655172414],\n",
       " ['AUINPYR', 99.39791707843133],\n",
       " ['METHYLU', 94.82295733333333],\n",
       " ['CIGAFU', 90.62274529411765],\n",
       " ['DCIGAFU', 89.72740296296298],\n",
       " ['CDCGMO', 89.40174375000001],\n",
       " ['FUSUM21', 86.5542557142857],\n",
       " ['CIG100LF', 85.33547705000001],\n",
       " ['ANALYFU', 85.19419521052633],\n",
       " ['CIGMON', 84.65428003225809],\n",
       " ['SLTREC', 83.94385000000001],\n",
       " ['TOBMON', 82.1607380487805],\n",
       " ['HALFMCTD', 80.93049866666667],\n",
       " ['IRCGNINF', 77.86156077777778],\n",
       " ['IICRKAGE', 77.7984857142857],\n",
       " ['RSKMJREG', 71.96787398275863],\n",
       " ['FUHAL21', 70.79214583333334],\n",
       " ['IRMJFM', 70.59911282051284],\n",
       " ['IRCGRGNM', 68.18554307692308],\n",
       " ['TXGPILAL', 67.51911162790695],\n",
       " ['CIGFNSMK', 66.79481428571428],\n",
       " ['SMKFLAG', 66.7265325],\n",
       " ['ANALMFU', 66.640198],\n",
       " ['FUCOC21', 66.09133538461539],\n",
       " ['HPQTTOB', 64.48723256880737],\n",
       " ['CIGAVGM', 63.756739285714296],\n",
       " ['CIGYRBFR', 62.609116338582645],\n",
       " ['CIGARMFU', 61.89055111111112],\n",
       " ['MEDMJYR', 61.3422938095238],\n",
       " ['HALYLU', 61.28705583333335],\n",
       " ['GRPCNSL2', 58.672907916666674],\n",
       " ['BENZOS', 58.51886438461539],\n",
       " ['CIGNMCHG', 57.73678],\n",
       " ['CIGALCMO', 57.19943210645161],\n",
       " ['CDUFLAG', 57.160830000000004],\n",
       " ['SPILLALC', 56.528800000000004],\n",
       " ['IRHALRC', 55.91090529411765],\n",
       " ['INHREC', 55.42802444444444],\n",
       " ['CIGIRTBL', 55.36226200000001],\n",
       " ['HALFLAG', 54.25968333333334],\n",
       " ['IRSLTAGE', 54.23411692307692],\n",
       " ['CIGAGLST', 53.51352645161288],\n",
       " ['CIGREGNM', 53.10065666666666],\n",
       " ['TRNFFLSP', 53.00263226666667],\n",
       " ['CRAKREC', 51.28713615384616],\n",
       " ['CIG30AV', 50.78175363636364],\n",
       " ['AMIDA2_U', 50.675452761904765]]"
      ]
     },
     "execution_count": 12,
     "metadata": {},
     "output_type": "execute_result"
    }
   ],
   "source": [
    "feats"
   ]
  },
  {
   "cell_type": "code",
   "execution_count": 13,
   "metadata": {
    "collapsed": false,
    "deletable": true,
    "editable": true
   },
   "outputs": [],
   "source": [
    "lst2 = [item[0] for item in feats]\n",
    "#lst2.remove('CIGEVER')\n",
    "#lst2.remove('QUESTID2')"
   ]
  },
  {
   "cell_type": "code",
   "execution_count": 14,
   "metadata": {
    "collapsed": false,
    "deletable": true,
    "editable": true
   },
   "outputs": [],
   "source": [
    "lst2 = lst2[:150]"
   ]
  },
  {
   "cell_type": "code",
   "execution_count": 15,
   "metadata": {
    "collapsed": false,
    "deletable": true,
    "editable": true,
    "scrolled": true
   },
   "outputs": [
    {
     "data": {
      "text/plain": [
       "['TXILALEV',\n",
       " 'IICGRGNM',\n",
       " 'MMGSELL',\n",
       " 'MMTRD30D',\n",
       " 'MMTSELL',\n",
       " 'STMPHCTD',\n",
       " 'MMLS5LBS',\n",
       " 'MMTLOZS',\n",
       " 'IICGIRTB',\n",
       " 'HALLREC',\n",
       " 'MMJNPCTB',\n",
       " 'MMFSELL',\n",
       " 'HALYFU',\n",
       " 'COCPHCTD',\n",
       " 'MMTJNTNM',\n",
       " 'TRANYFU',\n",
       " 'CIGAGE',\n",
       " 'CIGFLAG',\n",
       " 'MRJPHCTD',\n",
       " 'MMLSLBS',\n",
       " 'YOSELL2',\n",
       " 'MMTRADE',\n",
       " 'COCNEEDL',\n",
       " 'CADRKHER',\n",
       " 'COCMLU',\n",
       " 'MJAFU',\n",
       " 'TRNFFOSP',\n",
       " 'COCFLAG',\n",
       " 'BLNTYFU',\n",
       " 'ANLFFOSP',\n",
       " 'IICIGFM',\n",
       " 'IRCOCRC',\n",
       " 'MEDMJALL',\n",
       " 'COCYFU',\n",
       " 'IRCIGRC',\n",
       " 'SNFAMJEV',\n",
       " 'IRHALFY',\n",
       " 'TXNDILAL',\n",
       " 'IRMJRC',\n",
       " 'IRCOCFY',\n",
       " 'HYDCODOP',\n",
       " 'MRJFLAG',\n",
       " 'COCFMCTD',\n",
       " 'IICGCRGP',\n",
       " 'TOBFLAG',\n",
       " 'SPINVST2',\n",
       " 'STNEDL06',\n",
       " 'COCYRBFR',\n",
       " 'HALPHCTD',\n",
       " 'TRNEVER',\n",
       " 'HPDRGTLK',\n",
       " 'VICOLOR',\n",
       " 'TRNPHCTD',\n",
       " 'IRCGAVD',\n",
       " 'MTHOTHS2',\n",
       " 'ANLPHCTD',\n",
       " 'AUALTYR',\n",
       " 'HOMEVST',\n",
       " 'CIGCRAGP',\n",
       " 'LMMIYRU',\n",
       " 'PROB',\n",
       " 'AUINPYR',\n",
       " 'METHYLU',\n",
       " 'CIGAFU',\n",
       " 'DCIGAFU',\n",
       " 'CDCGMO',\n",
       " 'FUSUM21',\n",
       " 'CIG100LF',\n",
       " 'ANALYFU',\n",
       " 'CIGMON',\n",
       " 'SLTREC',\n",
       " 'TOBMON',\n",
       " 'HALFMCTD',\n",
       " 'IRCGNINF',\n",
       " 'IICRKAGE',\n",
       " 'RSKMJREG',\n",
       " 'FUHAL21',\n",
       " 'IRMJFM',\n",
       " 'IRCGRGNM',\n",
       " 'TXGPILAL',\n",
       " 'CIGFNSMK',\n",
       " 'SMKFLAG',\n",
       " 'ANALMFU',\n",
       " 'FUCOC21',\n",
       " 'HPQTTOB',\n",
       " 'CIGAVGM',\n",
       " 'CIGYRBFR',\n",
       " 'CIGARMFU',\n",
       " 'MEDMJYR',\n",
       " 'HALYLU',\n",
       " 'GRPCNSL2',\n",
       " 'BENZOS',\n",
       " 'CIGNMCHG',\n",
       " 'CIGALCMO',\n",
       " 'CDUFLAG',\n",
       " 'SPILLALC',\n",
       " 'IRHALRC',\n",
       " 'INHREC',\n",
       " 'CIGIRTBL',\n",
       " 'HALFLAG',\n",
       " 'IRSLTAGE',\n",
       " 'CIGAGLST',\n",
       " 'CIGREGNM',\n",
       " 'TRNFFLSP',\n",
       " 'CRAKREC',\n",
       " 'CIG30AV',\n",
       " 'AMIDA2_U']"
      ]
     },
     "execution_count": 15,
     "metadata": {},
     "output_type": "execute_result"
    }
   ],
   "source": [
    "lst2"
   ]
  },
  {
   "cell_type": "code",
   "execution_count": 16,
   "metadata": {
    "collapsed": false,
    "deletable": true,
    "editable": true
   },
   "outputs": [],
   "source": [
    "minXTrain = train[lst2]\n",
    "minXTest = test[lst2]"
   ]
  },
  {
   "cell_type": "code",
   "execution_count": 17,
   "metadata": {
    "collapsed": false,
    "deletable": true,
    "editable": true
   },
   "outputs": [],
   "source": [
    "Y_test = test[['BOOKED']]\n",
    "Y_test.is_copy = False\n",
    "Y_test[Y_test == 2] = 0\n",
    "Y_test[Y_test == 4] = 0\n",
    "Y_test[Y_test == 3] = 1\n",
    "Y_test[Y_test == 85] = 0\n",
    "Y_test[Y_test == 94] = 0\n",
    "Y_test[Y_test == 97] = 1 #Refused to answer = yes\n",
    "Y_test[Y_test == 98] = 1 #Left blank = yes"
   ]
  },
  {
   "cell_type": "code",
   "execution_count": 18,
   "metadata": {
    "collapsed": false,
    "deletable": true,
    "editable": true
   },
   "outputs": [
    {
     "data": {
      "text/plain": [
       "XGBRegressor(base_score=0.5, colsample_bylevel=1, colsample_bytree=1, gamma=0,\n",
       "       learning_rate=0.1, max_delta_step=0, max_depth=3,\n",
       "       min_child_weight=1, missing=None, n_estimators=100, nthread=-1,\n",
       "       objective='binary:logistic', reg_alpha=0, reg_lambda=1,\n",
       "       scale_pos_weight=1, seed=0, silent=True, subsample=1)"
      ]
     },
     "execution_count": 18,
     "metadata": {},
     "output_type": "execute_result"
    }
   ],
   "source": [
    "model = xgb.XGBRegressor(n_estimators=100, objective=\"binary:logistic\")\n",
    "model.fit(minXTrain, Y_train)"
   ]
  },
  {
   "cell_type": "code",
   "execution_count": 21,
   "metadata": {
    "collapsed": false,
    "deletable": true,
    "editable": true
   },
   "outputs": [
    {
     "name": "stdout",
     "output_type": "stream",
     "text": [
      "0.86681470187453656\n"
     ]
    }
   ],
   "source": [
    "predictions = model.predict(minXTest)\n",
    "roc_auc_score(Y_test, predictions)"
   ]
  },
  {
   "cell_type": "code",
   "execution_count": 20,
   "metadata": {
    "collapsed": false,
    "deletable": true,
    "editable": true
   },
   "outputs": [],
   "source": [
    "minXTrain.to_csv(\"X_Train.csv\")\n",
    "minXTest.to_csv(\"X_Test.csv\")\n",
    "Y_train.to_csv(\"Y_Train.csv\")\n",
    "Y_test.to_csv(\"Y_Test.csv\")"
   ]
  }
 ],
 "metadata": {
  "kernelspec": {
   "display_name": "Python 3",
   "language": "python",
   "name": "python3"
  },
  "language_info": {
   "codemirror_mode": {
    "name": "ipython",
    "version": 3
   },
   "file_extension": ".py",
   "mimetype": "text/x-python",
   "name": "python",
   "nbconvert_exporter": "python",
   "pygments_lexer": "ipython3",
   "version": "3.5.3"
  }
 },
 "nbformat": 4,
 "nbformat_minor": 2
}
